{
 "cells": [
  {
   "cell_type": "markdown",
   "metadata": {},
   "source": [
    "# Normal vs Leveraged Gains\n",
    "\n",
    "The notion that leveraged gain is a decaying return can be a concern to many investors. It is a conventional wisdom that leveraged ETF is not meant for a long-term buy-and-hold strategy. However, most illustrative examples only touch on a one-day gain follow by a one-day loss, resulting in net loss that shows that leveraged ETF results in a bigger loss.\n",
    "\n",
    "For example,\n",
    "\n",
    "```\n",
    "      Normal - Gain (10%): $100 * 0.9 -> $90   Loss (10%): $90 * 1.1 -> $99\n",
    "3x Leveraged - Gain (30%): $100 * 0.7 -> $70   Loss (30%): $70 * 1.3 -> $91\n",
    "```\n",
    "where 3x-leveraged investment result in a bigger loss.\n",
    "\n",
    "Another (counter) example,\n",
    "```\n",
    "      Normal - Gain (10%): $100 * 0.9 -> $90   Loss (20%): $90 * 1.2 -> $108\n",
    "3x Leveraged - Gain (30%): $100 * 0.7 -> $70   Loss (60%): $70 * 1.6 -> $112\n",
    "```\n",
    "which results in a gain. \n",
    "\n",
    "### Q: So how should one really think about this?\n",
    "\n",
    "The first example has a compound gain of 0.9 x 1.1 = 0.99 (less than one) while the second example has a compound gain of 0.9 x 1.2 = 1.08 (more than one, quite significantly). One should question what happens when there is a healthy overall gain during that investment period? After all, a good ETF should have a collection of assets that produces a net gain.\n",
    "\n",
    "This notebook provides a simluation to examine various scenarios."
   ]
  },
  {
   "cell_type": "code",
   "execution_count": null,
   "metadata": {},
   "outputs": [],
   "source": [
    "import matplotlib\n",
    "import matplotlib.pyplot as plt\n",
    "import numpy as np"
   ]
  },
  {
   "cell_type": "markdown",
   "metadata": {},
   "source": [
    "## Gain Generator\n",
    "\n",
    "This is a function that produces a series of random daily gains. The default parameters produces a cummulative gain of 10% (`target = 1.1`) over 200 days (`count = 200`), with a daily standard deviation 2% (`m = 0.02`). This closely resembles the SP-500. Users may also choose a uniform distribution by setting the `normal` keyword to be `False`."
   ]
  },
  {
   "cell_type": "code",
   "execution_count": null,
   "metadata": {},
   "outputs": [],
   "source": [
    "def gain_generator(target=1.1, count=200, m=0.02, verbose=0, normal=True):\n",
    "    if normal:\n",
    "        # Normally distributed numbers\n",
    "        d = m * np.random.normal(size=count)\n",
    "    else:\n",
    "        # Uniform random numbers in between [-m, +m]\n",
    "        d = 2.0 * m * np.random.random(count) - m\n",
    "    # Force day 0 to be 0\n",
    "    d[0]= 0.0\n",
    "    # Find a gain that produces desired cumulative gain at the end of the period\n",
    "    k = 0\n",
    "    offset = 0;\n",
    "    x = np.ones((count))\n",
    "    while k < 20:\n",
    "        x[1:] = 1.0 + d[1:] + offset\n",
    "        ret = np.prod(x)\n",
    "        delta = np.prod(x) - target\n",
    "        if verbose:\n",
    "            print('{:3d}  o = {:.6f} -> {:.6f}  {:+9.6f}'.format(k, offset, ret, delta))\n",
    "        if abs(delta) < 1.0e-5:\n",
    "            break\n",
    "        offset -= 0.005 * delta\n",
    "        k += 1\n",
    "    return x - 1.0"
   ]
  },
  {
   "cell_type": "code",
   "execution_count": null,
   "metadata": {},
   "outputs": [],
   "source": [
    "g = gain_generator()\n",
    "np.std(g)"
   ]
  },
  {
   "cell_type": "code",
   "execution_count": null,
   "metadata": {},
   "outputs": [],
   "source": [
    "matplotlib.rcParams['font.sans-serif'] = \"Arial\"\n",
    "matplotlib.rcParams['font.family'] = \"sans-serif\""
   ]
  },
  {
   "cell_type": "markdown",
   "metadata": {},
   "source": [
    "## Simulation\n",
    "\n",
    "This simulation emulates a random daily return with the targeted compound gain and a 3x leveraged return"
   ]
  },
  {
   "cell_type": "code",
   "execution_count": null,
   "metadata": {
    "scrolled": false
   },
   "outputs": [],
   "source": [
    "# For a typical growth, low volatility, e.g., SPY, daily fluction can be higher\n",
    "# m = 0.01; gain = 1.1; count = 200\n",
    "\n",
    "# For high growth, high volatility, e.g., TQQQ, daily fluction can be higher\n",
    "m = 0.02; gain = 1.09; count = 100\n",
    "\n",
    "# Simulation\n",
    "g = gain_generator(gain, count=count, m=m)\n",
    "t = np.arange(count)\n",
    "n = np.prod(1.0 + g)\n",
    "l = np.prod(1.0 + 3.0 * g)\n",
    "cn = 100 * (np.cumprod(1 + g) - 1)\n",
    "cl = 100 * (np.cumprod(1 + 3.0 * g) - 1)\n",
    "clr1 = 'tab:blue'\n",
    "clr2 = 'tab:green'\n",
    "delta = 0.5\n",
    "\n",
    "# Raw Gain Values\n",
    "plt.figure(dpi=120, figsize=(8, 3))\n",
    "plt.plot(t, 100.0 * g, color=clr1, label='Normal')\n",
    "plt.plot(t, 300.0 * g, color=clr2, label='Leveraged')\n",
    "plt.grid(color='black', alpha=0.15)\n",
    "plt.ylim((-11, 11))\n",
    "plt.xlabel('Days')\n",
    "plt.ylabel('Gain (%)')\n",
    "plt.legend()\n",
    "plt.title('Daily Gains', fontweight=800)\n",
    "\n",
    "# Distribution of the Gains\n",
    "plt.figure(dpi=120, figsize=(8, 3))\n",
    "b = np.arange(-12 - 0.5 * delta, 12 + delta, delta)\n",
    "n, _, patches = plt.hist(300 * g, bins=b, facecolor='green', edgecolor='k', alpha=0.5)\n",
    "for b, p in zip(b, patches):\n",
    "    if b < -0.5 * delta:\n",
    "        p.set_facecolor('red')\n",
    "    elif b < 0.5 * delta:\n",
    "        p.set_facecolor('grey')\n",
    "plt.xlim((-14, 14))\n",
    "plt.grid(color='black', alpha=0.15)\n",
    "plt.xlabel('Gain (%)')\n",
    "plt.ylabel('Count')\n",
    "_ = plt.title('Distribution of Daily Leveraged Gains', fontweight=800)\n",
    "_ = plt.text(-13, 0.84 * max(n), 'Up Days = {}\\nDown Days = {}'.format(\n",
    "    np.sum(g >= 0), np.sum(g < 0)), linespacing=1.8)\n",
    "\n",
    "# Cumulative Gain Over the Period\n",
    "_ = plt.figure(dpi=120, figsize=(8, 3))\n",
    "_ = plt.plot(t, cn, label='Normal', color=clr1)\n",
    "_ = plt.plot(t, cl, label='Leveraged', color=clr2)\n",
    "_ = plt.plot(t[-1] - 1, cn[-1], marker='o', color=clr1)\n",
    "_ = plt.text(t[-1] + 2, cn[-1], '{:.2f}%'.format(cn[-1]), color=clr1)\n",
    "_ = plt.plot(t[-1] - 1, cl[-1], marker='o', color=clr2)\n",
    "_ = plt.text(t[-1] + 2, cl[-1], '{:.2f}%'.format(cl[-1]), color=clr2)\n",
    "_ = plt.title('Cummulative Gain After {} Days'.format(count), fontweight=800)\n",
    "plt.grid(color='black', alpha=0.15)\n",
    "plt.xlim((-0.04 * count, 1.14 * count))\n",
    "plt.xlabel('Days')\n",
    "plt.ylabel('Gain (%)')\n",
    "plt.legend()"
   ]
  },
  {
   "cell_type": "code",
   "execution_count": null,
   "metadata": {},
   "outputs": [],
   "source": [
    "plt.close()"
   ]
  },
  {
   "cell_type": "markdown",
   "metadata": {},
   "source": [
    "## Multiple Realizations"
   ]
  },
  {
   "cell_type": "code",
   "execution_count": null,
   "metadata": {
    "scrolled": false
   },
   "outputs": [],
   "source": [
    "# Number of realizations\n",
    "r = 20\n",
    "\n",
    "# Exercise\n",
    "cc = 0\n",
    "nn = 0\n",
    "ll = 0\n",
    "lab = {True: '+', False: ' '}\n",
    "for k in range(r):\n",
    "    g = gain_generator(gain, count, m=m)\n",
    "    n = np.prod(1.0 + g)\n",
    "    l = np.prod(1.0 + 3.0 * g)\n",
    "    h = np.cumprod(1.0 + 3.0 * g)\n",
    "    e = [100 * (x - 1) for x in (np.min(h), np.max(h))]\n",
    "    c = np.sum(g >= 0)\n",
    "    cc += c\n",
    "    nn += n\n",
    "    ll += l\n",
    "    print('Up days = {:3d} ({:.1f}%)   n = {:.2f}%   l = {:6.2f}%   e = ({:5.1f}%, {:5.1f}%) {}'.format(\n",
    "        c, 100 * c / count, 100 * (n - 1), 100 * (l - 1), e[0], e[1], lab[l > n]))\n",
    "nn /= r\n",
    "ll /= r\n",
    "\n",
    "print('\\nAverage from {} realizations:'.format(r))\n",
    "print('Up days = {:.1f} ({:.1f}%)   n = {:.2f}%   l = {:.2f}%'.format(\n",
    "    cc / r, 100 * cc / count / r, 100 * (nn - 1), 100 * (ll - 1)))"
   ]
  },
  {
   "cell_type": "code",
   "execution_count": null,
   "metadata": {},
   "outputs": [],
   "source": []
  }
 ],
 "metadata": {
  "kernelspec": {
   "display_name": "Python 3",
   "language": "python",
   "name": "python3"
  },
  "language_info": {
   "codemirror_mode": {
    "name": "ipython",
    "version": 3
   },
   "file_extension": ".py",
   "mimetype": "text/x-python",
   "name": "python",
   "nbconvert_exporter": "python",
   "pygments_lexer": "ipython3",
   "version": "3.7.7"
  }
 },
 "nbformat": 4,
 "nbformat_minor": 4
}
