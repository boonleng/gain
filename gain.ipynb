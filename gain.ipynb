{
 "cells": [
  {
   "cell_type": "markdown",
   "metadata": {},
   "source": [
    "# Normal vs Leveraged Gains"
   ]
  },
  {
   "cell_type": "code",
   "execution_count": null,
   "metadata": {},
   "outputs": [],
   "source": [
    "import matplotlib\n",
    "import matplotlib.pyplot as plt\n",
    "import numpy as np\n",
    "from IPython.display import display, Markdown, Latex\n",
    "\n",
    "# jt -t monokai -tfs 14 -ofs 11 -nfs 10 -dfs 12 -fs 11 -lineh 150"
   ]
  },
  {
   "cell_type": "markdown",
   "metadata": {},
   "source": [
    "## Gain Generator\n",
    "\n",
    "The `gain_generator()` function produces a series of random daily gains. The default parameters produces a cummulative gain of 10% (`target = 1.1`) over 200 days (`count = 200`), with a daily standard deviation of 2% (`m = 0.02`). This closely resembles the SP-500. Users may also choose a uniform distribution by setting the keyword `normal` to `False`."
   ]
  },
  {
   "cell_type": "code",
   "execution_count": null,
   "metadata": {},
   "outputs": [],
   "source": [
    "def gain_generator(target=1.1, count=200, m=0.02, verbose=0, normal=True):\n",
    "    if normal:\n",
    "        # Normally distributed numbers\n",
    "        d = m * np.random.normal(size=count)\n",
    "    else:\n",
    "        # Uniform random numbers in between [-m, +m]\n",
    "        d = 2.0 * m * np.random.random(count) - m\n",
    "    # Force day 0 to be 0\n",
    "    d[0]= 0.0\n",
    "    # Find a gain that produces desired cumulative gain at the end of the period\n",
    "    k = 0\n",
    "    offset = 0;\n",
    "    x = np.ones((count))\n",
    "    while k < 20:\n",
    "        x[1:] = 1.0 + d[1:] + offset\n",
    "        ret = np.prod(x)\n",
    "        delta = np.prod(x) - target\n",
    "        if verbose:\n",
    "            print('{:3d}  o = {:.6f} -> {:.6f}  {:+9.6f}'.format(k, offset, ret, delta))\n",
    "        if abs(delta) < 1.0e-5:\n",
    "            break\n",
    "        offset -= 1.0 / count * delta\n",
    "        k += 1\n",
    "    return x - 1.0"
   ]
  },
  {
   "cell_type": "code",
   "execution_count": null,
   "metadata": {},
   "outputs": [],
   "source": [
    "g = gain_generator()\n",
    "np.std(g)"
   ]
  },
  {
   "cell_type": "code",
   "execution_count": null,
   "metadata": {},
   "outputs": [],
   "source": [
    "darkmode = False\n",
    "fs = 0.5\n",
    "if darkmode:\n",
    "    edgecolor = 'white'\n",
    "    facecolor = (1, 1, 1, 0.1)\n",
    "    green_edge = '#99ff99'\n",
    "    red_edge = '#ff9999'\n",
    "    clr1 = '#4396f6'\n",
    "    clr2 = '#a6e22e'\n",
    "else:\n",
    "    edgecolor = 'black'\n",
    "    facecolor = (0, 0, 0, 0.05)\n",
    "    green_edge = '#004400'\n",
    "    red_edge = '#440000'\n",
    "    clr1 = '#4396f6'\n",
    "    clr2 = '#33aa00'\n",
    "\n",
    "context_properties = {\n",
    "    'font.family': 'sans-serif',\n",
    "    'figure.frameon': False,\n",
    "    'figure.facecolor': (0, 0, 0, 0),\n",
    "    'axes.edgecolor': edgecolor,\n",
    "    'axes.facecolor': facecolor,\n",
    "    'axes.labelcolor': edgecolor,\n",
    "    'axes.linewidth': 1.0 * fs,\n",
    "    'axes.titlepad': 14.0,\n",
    "    'axes.xmargin': 0,\n",
    "    'axes.ymargin': 0,\n",
    "    'grid.color': edgecolor,\n",
    "    'hatch.color': edgecolor,\n",
    "    'patch.edgecolor': edgecolor,\n",
    "    'text.color': edgecolor,\n",
    "    'xtick.color': edgecolor,\n",
    "    'xtick.direction': 'in',\n",
    "    'xtick.major.pad': 9.0 * fs,\n",
    "    'xtick.major.size': 4.0 * fs,\n",
    "    'xtick.major.width': 1.0 * fs,\n",
    "    'ytick.color': edgecolor,\n",
    "    'ytick.direction': 'in',\n",
    "    'ytick.major.pad': 9.0 * fs,\n",
    "    'grid.color': edgecolor,\n",
    "    'grid.alpha': 0.1,\n",
    "    'legend.frameon': False,\n",
    "    'legend.framealpha': 0.15,\n",
    "}\n",
    "plt.rcParams['font.sans-serif'] = 'Arial'"
   ]
  },
  {
   "cell_type": "markdown",
   "metadata": {},
   "source": [
    "## Simulation\n",
    "\n",
    "This simulation emulates a random daily return with the targeted compound gain and a 3x leveraged return"
   ]
  },
  {
   "cell_type": "code",
   "execution_count": null,
   "metadata": {
    "scrolled": false
   },
   "outputs": [],
   "source": [
    "# For a typical growth, low volatility, e.g., SPY, daily fluction can be higher\n",
    "# m = 0.01; gain = 1.1; count = 200\n",
    "\n",
    "# For high growth, high volatility, e.g., TQQQ, daily fluction can be higher\n",
    "m = 0.017; gain = 1.08; count = 100\n",
    "# m = 0.017; gain = 1.05; count = 50\n",
    "# m = 0.017; gain = 1.05; count = 25\n",
    "# m = 0.017; gain = 1.01; count = 80\n",
    "\n",
    "# Simulation\n",
    "g = gain_generator(gain, count=count, m=m)\n",
    "t = np.arange(count)\n",
    "n = np.prod(1.0 + g)\n",
    "l = np.prod(1.0 + 3.0 * g)\n",
    "cn = 100 * (np.cumprod(1 + g) - 1)\n",
    "cl = 100 * (np.cumprod(1 + 3.0 * g) - 1)\n",
    "markersize = 8\n",
    "delta = 0.5\n",
    "\n",
    "with plt.rc_context(context_properties):\n",
    "    # Distribution of the Gains\n",
    "    plt.figure(dpi=110, figsize=(9, 3))\n",
    "    b = np.arange(-12 - 0.5 * delta, 12 + delta, delta)\n",
    "    n, _, patches = plt.hist(300 * g, bins=b, alpha=0.6)\n",
    "    for b, p in zip(b, patches):\n",
    "        if b < -0.5 * delta:\n",
    "            p.set_facecolor('red')\n",
    "            p.set_edgecolor(red_edge)\n",
    "        elif b < 0.5 * delta:\n",
    "            p.set_facecolor('grey')\n",
    "            p.set_edgecolor(edgecolor)\n",
    "        else:\n",
    "            p.set_facecolor('green')\n",
    "            p.set_edgecolor(green_edge)\n",
    "    plt.text(16, 0.93 * max(n), 'Up Days = {}\\nDown Days = {}\\nTotal Days = {}'.format(\n",
    "        np.sum(g >= 0), np.sum(g < 0), count), linespacing=1.8, va='top', ha='right')\n",
    "    plt.grid()\n",
    "    plt.xlim((-17, 17))\n",
    "    plt.xlabel('Gain (%)')\n",
    "    plt.ylabel('Count')\n",
    "    plt.title('Distribution of Daily Leveraged Gains ({:.1f}% bins)'.format(delta), fontweight=800)\n",
    "\n",
    "    # Raw Gain Values\n",
    "    plt.figure(dpi=110, figsize=(9, 3))\n",
    "    if len(t) <= 50:\n",
    "        marker = '.'\n",
    "    else:\n",
    "        marker = ''\n",
    "    plt.plot(t, 100.0 * g, marker=marker, markersize=markersize, color=clr1, label='Normal')\n",
    "    plt.plot(t, 300.0 * g, marker=marker, markersize=markersize, color=clr2, label='Leveraged')\n",
    "    plt.grid()\n",
    "    plt.xlim((-0.03 * count, 1.12 * count))\n",
    "    plt.ylim((-16, 16))\n",
    "    plt.xlabel('Days')\n",
    "    plt.ylabel('Gain (%)')\n",
    "    plt.legend()\n",
    "    plt.title('Daily Gains', fontweight=800)\n",
    "\n",
    "    # Cumulative Gain Over the Period\n",
    "    plt.figure(dpi=110, figsize=(9, 3))\n",
    "    plt.plot(t, cn, label='Normal', color=clr1)\n",
    "    plt.plot(t, cl, label='Leveraged', color=clr2)\n",
    "    plt.plot(t[-1], cn[-1], marker='o', color=clr1)\n",
    "    plt.text(t[-1] * 1.03, cn[-1], '{:.2f}%'.format(cn[-1]), color=clr1, va='center', fontweight=600)\n",
    "    plt.plot(t[-1], cl[-1], marker='o', color=clr2)\n",
    "    plt.text(t[-1] * 1.03, cl[-1], '{:.2f}%'.format(cl[-1]), color=clr2, va='center', fontweight=600)\n",
    "    plt.grid()\n",
    "    plt.xlim((-0.03 * count, 1.12 * count))\n",
    "    plt.xlabel('Days')\n",
    "    plt.ylabel('Gain (%)')\n",
    "    plt.legend(loc='best')\n",
    "    plt.title('Cummulative Gain After {} Days'.format(count), fontweight=800)\n",
    "\n",
    "print('')"
   ]
  },
  {
   "cell_type": "code",
   "execution_count": null,
   "metadata": {},
   "outputs": [],
   "source": [
    "plt.close()"
   ]
  },
  {
   "cell_type": "markdown",
   "metadata": {},
   "source": [
    "## Multiple Realizations"
   ]
  },
  {
   "cell_type": "code",
   "execution_count": null,
   "metadata": {
    "scrolled": false
   },
   "outputs": [],
   "source": [
    "# Number of realizations\n",
    "r = 20\n",
    "\n",
    "# Table header\n",
    "output  = '| \\# | Up Days | Normal Return | Leveraged Return | Extremes | Better? |\\n'\n",
    "output += '| --- | --: | :-: | :-: | --: | :-: |\\n'\n",
    "\n",
    "# Now we emulate a bunch of runs\n",
    "uu = 0\n",
    "nn = 0\n",
    "ll = 0\n",
    "ee = (0, 0)\n",
    "lab = {True: '+', False: '-'}\n",
    "for k in range(1, r + 1):\n",
    "    g = gain_generator(gain, count, m=m)\n",
    "    u = np.sum(g >= 0)\n",
    "    n = np.prod(1.0 + g)\n",
    "    l = np.prod(1.0 + 3.0 * g)\n",
    "    h = np.cumprod(1.0 + 3.0 * g)\n",
    "    e = [100 * (x - 1) for x in (np.min(h), np.max(h))]\n",
    "    ee = (min(ee[0], e[0]), max(ee[1], e[1]))\n",
    "    uu += u\n",
    "    nn += n\n",
    "    ll += l\n",
    "    output += '| {} | {:3d} ({:.1f}%) | {:+.2f}% | {:+.2f}% | {:+.1f}%, {:+.1f}% | {} |\\n'.format(\n",
    "        k, u, 100 * u / count, 100 * (n - 1.0), 100 * (l - 1.0), e[0], e[1], lab[l > n])\n",
    "nn /= r\n",
    "ll /= r\n",
    "\n",
    "output += '||\\n'\n",
    "output += '| **Average** | **{:.1f} ({:.1f}%)** | **{:+.2f}%** | **{:+.2f}%** | **{:+5.1f}%, {:+5.1f}%** | **{}** |\\n'.format(\n",
    "    uu / r, 100 * uu / count / r, 100 * (nn - 1), 100 * (ll - 1), ee[0], ee[1], lab[ll > nn])\n",
    "\n",
    "display(Markdown(output))"
   ]
  },
  {
   "cell_type": "code",
   "execution_count": null,
   "metadata": {},
   "outputs": [],
   "source": []
  }
 ],
 "metadata": {
  "kernelspec": {
   "display_name": "Python 3",
   "language": "python",
   "name": "python3"
  },
  "language_info": {
   "codemirror_mode": {
    "name": "ipython",
    "version": 3
   },
   "file_extension": ".py",
   "mimetype": "text/x-python",
   "name": "python",
   "nbconvert_exporter": "python",
   "pygments_lexer": "ipython3",
   "version": "3.7.7"
  }
 },
 "nbformat": 4,
 "nbformat_minor": 4
}
